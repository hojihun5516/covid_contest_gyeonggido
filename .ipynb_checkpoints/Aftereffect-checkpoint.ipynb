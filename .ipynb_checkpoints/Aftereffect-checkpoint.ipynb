{
 "cells": [
  {
   "cell_type": "markdown",
   "metadata": {},
   "source": [
    "# 경기도 제공 기본데이터\n",
    "- 연령대 조사중으로 인해 1 row 제거"
   ]
  },
  {
   "cell_type": "code",
   "execution_count": 283,
   "metadata": {},
   "outputs": [],
   "source": [
    "import pandas as pd\n",
    "from datetime import datetime, timedelta\n",
    "import matplotlib\n",
    "import matplotlib.pyplot as plt\n",
    "import seaborn as sns\n",
    "import json\n",
    "import csv\n",
    "import sys\n",
    "\n",
    "pd.set_option('display.max_column',None)\n",
    "pd.set_option('display.max_rows',None)\n",
    "pd.set_option('display.max_seq_items',None)\n",
    "pd.set_option('display.max_colwidth', 500)\n",
    "pd.set_option('expand_frame_repr', True)\n",
    "plt.rc('font', family='Malgun Gothic')"
   ]
  },
  {
   "cell_type": "code",
   "execution_count": 284,
   "metadata": {},
   "outputs": [],
   "source": [
    "covid_file_name = 'files/covid_gyeonggido_0924.csv'\n",
    "covid_df = pd.read_csv(covid_file_name)"
   ]
  },
  {
   "cell_type": "code",
   "execution_count": 285,
   "metadata": {},
   "outputs": [
    {
     "data": {
      "text/plain": [
       "Index(['기준일(발병일, 확진일 선택)', '지역 + 시 ', '필터(무증상,조사중 제외)', 'GRP', '감염경로', '경기번호',\n",
       "       '구분', '구분2', '나이(만)', '무증상/조사중', '무증상/조사중 기준일', '성별', '연령대', '연령대별 비율',\n",
       "       '연번', '재검출', '증상발현일', '지역', '지역 (group)', '필터(무증상,조사중 제외)(복사본)',\n",
       "       '확진일-증상발현일', '확진일-증상발현일_무증상조사중포함', '확진일자', '확진자', '레코드 수', '무증상자수',\n",
       "       '최종_무증상자수'],\n",
       "      dtype='object')"
      ]
     },
     "execution_count": 285,
     "metadata": {},
     "output_type": "execute_result"
    }
   ],
   "source": [
    "covid_df.columns"
   ]
  },
  {
   "cell_type": "code",
   "execution_count": 286,
   "metadata": {},
   "outputs": [
    {
     "data": {
      "text/html": [
       "<div>\n",
       "<style scoped>\n",
       "    .dataframe tbody tr th:only-of-type {\n",
       "        vertical-align: middle;\n",
       "    }\n",
       "\n",
       "    .dataframe tbody tr th {\n",
       "        vertical-align: top;\n",
       "    }\n",
       "\n",
       "    .dataframe thead th {\n",
       "        text-align: right;\n",
       "    }\n",
       "</style>\n",
       "<table border=\"1\" class=\"dataframe\">\n",
       "  <thead>\n",
       "    <tr style=\"text-align: right;\">\n",
       "      <th></th>\n",
       "      <th>기준일(발병일, 확진일 선택)</th>\n",
       "      <th>지역 + 시</th>\n",
       "      <th>필터(무증상,조사중 제외)</th>\n",
       "      <th>GRP</th>\n",
       "      <th>감염경로</th>\n",
       "      <th>경기번호</th>\n",
       "      <th>구분</th>\n",
       "      <th>구분2</th>\n",
       "      <th>나이(만)</th>\n",
       "      <th>무증상/조사중</th>\n",
       "      <th>무증상/조사중 기준일</th>\n",
       "      <th>성별</th>\n",
       "      <th>연령대</th>\n",
       "      <th>연령대별 비율</th>\n",
       "      <th>연번</th>\n",
       "      <th>재검출</th>\n",
       "      <th>증상발현일</th>\n",
       "      <th>지역</th>\n",
       "      <th>지역 (group)</th>\n",
       "      <th>필터(무증상,조사중 제외)(복사본)</th>\n",
       "      <th>확진일-증상발현일</th>\n",
       "      <th>확진일-증상발현일_무증상조사중포함</th>\n",
       "      <th>확진일자</th>\n",
       "      <th>확진자</th>\n",
       "      <th>레코드 수</th>\n",
       "      <th>무증상자수</th>\n",
       "      <th>최종_무증상자수</th>\n",
       "    </tr>\n",
       "  </thead>\n",
       "  <tbody>\n",
       "    <tr>\n",
       "      <th>0</th>\n",
       "      <td>2020. 3. 13.</td>\n",
       "      <td>안양시</td>\n",
       "      <td>참</td>\n",
       "      <td>grp42</td>\n",
       "      <td>서울_콜센터</td>\n",
       "      <td>안양-13</td>\n",
       "      <td>접촉자</td>\n",
       "      <td></td>\n",
       "      <td>1</td>\n",
       "      <td></td>\n",
       "      <td>2020. 3. 13.</td>\n",
       "      <td>M</td>\n",
       "      <td>0</td>\n",
       "      <td>0대</td>\n",
       "      <td>195</td>\n",
       "      <td></td>\n",
       "      <td>2020. 3. 13.</td>\n",
       "      <td>안양만안</td>\n",
       "      <td>안양</td>\n",
       "      <td>참</td>\n",
       "      <td>0</td>\n",
       "      <td>0일</td>\n",
       "      <td>2020. 3. 13.</td>\n",
       "      <td>8033</td>\n",
       "      <td>1</td>\n",
       "      <td>0</td>\n",
       "      <td>0</td>\n",
       "    </tr>\n",
       "    <tr>\n",
       "      <th>1</th>\n",
       "      <td>2020. 3. 16.</td>\n",
       "      <td>부천시</td>\n",
       "      <td>참</td>\n",
       "      <td>grp42</td>\n",
       "      <td>서울_콜센터</td>\n",
       "      <td>부천-38</td>\n",
       "      <td>접촉자</td>\n",
       "      <td></td>\n",
       "      <td>9</td>\n",
       "      <td></td>\n",
       "      <td>2020. 3. 16.</td>\n",
       "      <td>M</td>\n",
       "      <td>0</td>\n",
       "      <td>0대</td>\n",
       "      <td>232</td>\n",
       "      <td></td>\n",
       "      <td>2020. 3. 14.</td>\n",
       "      <td>부천</td>\n",
       "      <td>부천</td>\n",
       "      <td>참</td>\n",
       "      <td>2</td>\n",
       "      <td>2일</td>\n",
       "      <td>2020. 3. 16.</td>\n",
       "      <td>8276</td>\n",
       "      <td>1</td>\n",
       "      <td>0</td>\n",
       "      <td>0</td>\n",
       "    </tr>\n",
       "    <tr>\n",
       "      <th>2</th>\n",
       "      <td>2020. 3. 18.</td>\n",
       "      <td>용인시</td>\n",
       "      <td>참</td>\n",
       "      <td>grp79</td>\n",
       "      <td>해외유입</td>\n",
       "      <td>용인-22</td>\n",
       "      <td>접촉자</td>\n",
       "      <td></td>\n",
       "      <td>1</td>\n",
       "      <td>무증상</td>\n",
       "      <td>2020. 3. 18.</td>\n",
       "      <td>F</td>\n",
       "      <td>0</td>\n",
       "      <td>0대</td>\n",
       "      <td>279</td>\n",
       "      <td></td>\n",
       "      <td>NaN</td>\n",
       "      <td>용인수지</td>\n",
       "      <td>용인</td>\n",
       "      <td>참</td>\n",
       "      <td>-</td>\n",
       "      <td>무증상</td>\n",
       "      <td>2020. 3. 18.</td>\n",
       "      <td>8610</td>\n",
       "      <td>1</td>\n",
       "      <td>1</td>\n",
       "      <td>1</td>\n",
       "    </tr>\n",
       "    <tr>\n",
       "      <th>3</th>\n",
       "      <td>2020. 3. 18.</td>\n",
       "      <td>화성시</td>\n",
       "      <td>참</td>\n",
       "      <td>grp16</td>\n",
       "      <td>과천_신천지</td>\n",
       "      <td>화성-13</td>\n",
       "      <td>접촉자</td>\n",
       "      <td></td>\n",
       "      <td>5</td>\n",
       "      <td></td>\n",
       "      <td>2020. 3. 18.</td>\n",
       "      <td>M</td>\n",
       "      <td>0</td>\n",
       "      <td>0대</td>\n",
       "      <td>282</td>\n",
       "      <td></td>\n",
       "      <td>2020. 3. 9.</td>\n",
       "      <td>화성</td>\n",
       "      <td>화성</td>\n",
       "      <td>참</td>\n",
       "      <td>9</td>\n",
       "      <td>9일</td>\n",
       "      <td>2020. 3. 18.</td>\n",
       "      <td>8541</td>\n",
       "      <td>1</td>\n",
       "      <td>0</td>\n",
       "      <td>0</td>\n",
       "    </tr>\n",
       "    <tr>\n",
       "      <th>4</th>\n",
       "      <td>2020. 3. 21.</td>\n",
       "      <td>부천시</td>\n",
       "      <td>참</td>\n",
       "      <td>grp53</td>\n",
       "      <td>대구경북_일반</td>\n",
       "      <td>부천-48</td>\n",
       "      <td>접촉자</td>\n",
       "      <td></td>\n",
       "      <td>0</td>\n",
       "      <td>무증상</td>\n",
       "      <td>2020. 3. 21.</td>\n",
       "      <td>M</td>\n",
       "      <td>0</td>\n",
       "      <td>0대</td>\n",
       "      <td>331</td>\n",
       "      <td></td>\n",
       "      <td>NaN</td>\n",
       "      <td>부천</td>\n",
       "      <td>부천</td>\n",
       "      <td>참</td>\n",
       "      <td>-</td>\n",
       "      <td>무증상</td>\n",
       "      <td>2020. 3. 21.</td>\n",
       "      <td>8823</td>\n",
       "      <td>1</td>\n",
       "      <td>1</td>\n",
       "      <td>1</td>\n",
       "    </tr>\n",
       "  </tbody>\n",
       "</table>\n",
       "</div>"
      ],
      "text/plain": [
       "  기준일(발병일, 확진일 선택) 지역 + 시  필터(무증상,조사중 제외)    GRP     감염경로   경기번호   구분 구분2  \\\n",
       "0     2020. 3. 13.     안양시              참  grp42   서울_콜센터  안양-13  접촉자       \n",
       "1     2020. 3. 16.     부천시              참  grp42   서울_콜센터  부천-38  접촉자       \n",
       "2     2020. 3. 18.     용인시              참  grp79     해외유입  용인-22  접촉자       \n",
       "3     2020. 3. 18.     화성시              참  grp16   과천_신천지  화성-13  접촉자       \n",
       "4     2020. 3. 21.     부천시              참  grp53  대구경북_일반  부천-48  접촉자       \n",
       "\n",
       "   나이(만) 무증상/조사중   무증상/조사중 기준일 성별  연령대 연령대별 비율   연번 재검출         증상발현일    지역  \\\n",
       "0      1          2020. 3. 13.  M    0      0대  195      2020. 3. 13.  안양만안   \n",
       "1      9          2020. 3. 16.  M    0      0대  232      2020. 3. 14.    부천   \n",
       "2      1     무증상  2020. 3. 18.  F    0      0대  279               NaN  용인수지   \n",
       "3      5          2020. 3. 18.  M    0      0대  282       2020. 3. 9.    화성   \n",
       "4      0     무증상  2020. 3. 21.  M    0      0대  331               NaN    부천   \n",
       "\n",
       "  지역 (group) 필터(무증상,조사중 제외)(복사본) 확진일-증상발현일 확진일-증상발현일_무증상조사중포함          확진일자  \\\n",
       "0         안양                   참         0                 0일  2020. 3. 13.   \n",
       "1         부천                   참         2                 2일  2020. 3. 16.   \n",
       "2         용인                   참         -                무증상  2020. 3. 18.   \n",
       "3         화성                   참         9                 9일  2020. 3. 18.   \n",
       "4         부천                   참         -                무증상  2020. 3. 21.   \n",
       "\n",
       "    확진자  레코드 수  무증상자수  최종_무증상자수  \n",
       "0  8033      1      0         0  \n",
       "1  8276      1      0         0  \n",
       "2  8610      1      1         1  \n",
       "3  8541      1      0         0  \n",
       "4  8823      1      1         1  "
      ]
     },
     "execution_count": 286,
     "metadata": {},
     "output_type": "execute_result"
    }
   ],
   "source": [
    "covid_df.head()"
   ]
  },
  {
   "cell_type": "code",
   "execution_count": 287,
   "metadata": {},
   "outputs": [],
   "source": [
    "def draw_covid_df_countplot(x:str, df):\n",
    "    plt.figure(figsize=(20,10))\n",
    "    sns.countplot(x=x,  data=df)"
   ]
  },
  {
   "cell_type": "code",
   "execution_count": 288,
   "metadata": {},
   "outputs": [],
   "source": [
    "del covid_df['연번']\n",
    "del covid_df['확진자']\n",
    "del covid_df['무증상/조사중']\n",
    "del covid_df['경기번호']\n",
    "del covid_df['감염경로']\n",
    "del covid_df['GRP']\n",
    "del covid_df['구분2']\n",
    "del covid_df['구분']\n",
    "del covid_df['기준일(발병일, 확진일 선택)']\n",
    "del covid_df['무증상/조사중 기준일']"
   ]
  },
  {
   "cell_type": "markdown",
   "metadata": {},
   "source": [
    "# 8월부터 후유증 기사가 증가하였음\n",
    "\n",
    "\n",
    "## 부산 47번환자 기준\n",
    "\n",
    "> 원본글 8월16일 이슈\n",
    ">\n",
    "> https://www.facebook.com/Busan47  \n",
    ">\n",
    "> 부산 47번환자 8월 16일 글 좋아요 1600 공유 1300 \n",
    ">\n",
    "### 뉴스화\n",
    ">\n",
    "> https://news.naver.com/main/read.nhn?mode=LSD&mid=sec&sid1=102&oid=081&aid=0003116790&fbclid=IwAR1iCzfDoq_MKDWPGA_Fw-ZD52JnbaXAx0XG27iOWrC2gQEqFey3uHZKC7o\n"
   ]
  },
  {
   "cell_type": "code",
   "execution_count": 289,
   "metadata": {},
   "outputs": [],
   "source": [
    "before_affect = covid_df[covid_df['증상발현일'] < '2020. 8. 01']\n",
    "after_affect = covid_df[covid_df['증상발현일'] > '2020. 8. 01']"
   ]
  },
  {
   "cell_type": "markdown",
   "metadata": {},
   "source": [
    "### 8월1일 이전 연령별 감염자수 "
   ]
  },
  {
   "cell_type": "code",
   "execution_count": 291,
   "metadata": {},
   "outputs": [
    {
     "data": {
      "image/png": "[encoded data removed]",
      "text/plain": [
       "<Figure size 1440x720 with 1 Axes>"
      ]
     },
     "metadata": {
      "needs_background": "light"
     },
     "output_type": "display_data"
    }
   ],
   "source": [
    "draw_covid_df_countplot('연령대',before_affect)"
   ]
  },
  {
   "cell_type": "markdown",
   "metadata": {},
   "source": [
    "### 8월1일 이후 연령별 감염자수 "
   ]
  },
  {
   "cell_type": "code",
   "execution_count": 292,
   "metadata": {},
   "outputs": [
    {
     "data": {
      "image/png": "[encoded data removed]",
      "text/plain": [
       "<Figure size 1440x720 with 1 Axes>"
      ]
     },
     "metadata": {
      "needs_background": "light"
     },
     "output_type": "display_data"
    }
   ],
   "source": [
    "draw_covid_df_countplot('연령대',after_affect)"
   ]
  },
  {
   "cell_type": "markdown",
   "metadata": {},
   "source": [
    "### 사회적 거리두기(정부의 시행)\n",
    "|기간|내용|점수|\n",
    "|------|:---|---|\n",
    "|01.15 ~ 03.21| 특별한 조치 없음 |   0  |\n",
    "|03.22 ~ 04.19| 정부, 종교 실내체육 유흥시설 운영중단 강력권고|   1  |\n",
    "|04.20 ~ 05.05| 완화된 사회적 거리두기|2|\n",
    "|05.06 ~ 08.15| 생활 속 거리두기|3|\n",
    "|08.16 ~ 08.22| 2단계, 서울 경기 인천지역 사회적 거리두기 조치|4|\n",
    "|08.23 ~ 09.03| 2단계 전국 확산|4|\n",
    "|09.04 ~ 09.13| 2.5단계, 수도권 사회적 거리두기| 5|\n",
    "|09.14 ~ 09.27| 2단계, 수도권 거리두기 완화|4|\n",
    "\n",
    "### 예측\n",
    "> 기간: 09.28 ~ 10.02  \n",
    "> 내용: 2단계, 수도권 거리두기 완화  \n",
    "> 점수: 4"
   ]
  },
  {
   "cell_type": "markdown",
   "metadata": {},
   "source": [
    "## 보고싶은 기간의 연령별 감염자 수 \n",
    "### -> 2단계, 서울 경기 인천지역 사회적 거리두기 조치 + 2단계 전국 확산"
   ]
  },
  {
   "cell_type": "code",
   "execution_count": 293,
   "metadata": {},
   "outputs": [
    {
     "data": {
      "image/png": "[encoded data removed]",
      "text/plain": [
       "<Figure size 1440x720 with 1 Axes>"
      ]
     },
     "metadata": {
      "needs_background": "light"
     },
     "output_type": "display_data"
    }
   ],
   "source": [
    "start_date = '2020. 8. 16'\n",
    "end_date = '2020. 9. 03'\n",
    "temp1 = covid_df['증상발현일']<=end_date\n",
    "temp2 = covid_df['증상발현일']>=start_date\n",
    "date_ranges = covid_df[temp1&temp2]\n",
    "draw_covid_df_countplot('연령대',date_ranges)"
   ]
  },
  {
   "cell_type": "markdown",
   "metadata": {},
   "source": [
    "#  키워드 네이버 뉴스 코로나 후유증 검색 뉴스수\n",
    "\n",
    "> 2월 805\n",
    ">\n",
    "> 3월 1372\n",
    ">\n",
    "> 4월 1090\n",
    ">\n",
    "> 5월 774\n",
    ">\n",
    "> 6월 746\n",
    ">\n",
    "> 7월 760\n",
    ">\n",
    "> 8월 1212\n",
    ">\n",
    "> 9월 23일까지 1322"
   ]
  },
  {
   "cell_type": "code",
   "execution_count": 294,
   "metadata": {},
   "outputs": [],
   "source": [
    "naver_news_month = pd.DataFrame([{\"month\":\"2\" ,\"counts\":805},\n",
    "                                  {\"month\":\"3\" ,\"counts\":1372},\n",
    "                                  {\"month\":\"4\" ,\"counts\":1090},\n",
    "                                  {\"month\":\"5\" ,\"counts\":774},\n",
    "                                  {\"month\":\"6\" ,\"counts\":746},\n",
    "                                  {\"month\":\"7\" ,\"counts\":760},\n",
    "                                  {\"month\":\"8\" ,\"counts\":1212},\n",
    "                                  {\"month\":\"9\" ,\"counts\":1322}\n",
    "                                 ])"
   ]
  },
  {
   "cell_type": "code",
   "execution_count": 295,
   "metadata": {},
   "outputs": [
    {
     "data": {
      "text/plain": [
       "<matplotlib.axes._subplots.AxesSubplot at 0x1d586e87908>"
      ]
     },
     "execution_count": 295,
     "metadata": {},
     "output_type": "execute_result"
    },
    {
     "data": {
      "image/png": "[encoded data removed]",
      "text/plain": [
       "<Figure size 1440x720 with 1 Axes>"
      ]
     },
     "metadata": {
      "needs_background": "light"
     },
     "output_type": "display_data"
    }
   ],
   "source": [
    "plt.figure(figsize=(20,10))\n",
    "sns.barplot(x=\"month\", y=\"counts\", data=naver_news_month)"
   ]
  },
  {
   "cell_type": "markdown",
   "metadata": {},
   "source": [
    "#  인스타그램\n",
    "- 9월: 22일까지의 데이터"
   ]
  },
  {
   "cell_type": "code",
   "execution_count": 296,
   "metadata": {
    "collapsed": true
   },
   "outputs": [
    {
     "data": {
      "text/html": [
       "<div>\n",
       "<style scoped>\n",
       "    .dataframe tbody tr th:only-of-type {\n",
       "        vertical-align: middle;\n",
       "    }\n",
       "\n",
       "    .dataframe tbody tr th {\n",
       "        vertical-align: top;\n",
       "    }\n",
       "\n",
       "    .dataframe thead th {\n",
       "        text-align: right;\n",
       "    }\n",
       "</style>\n",
       "<table border=\"1\" class=\"dataframe\">\n",
       "  <thead>\n",
       "    <tr style=\"text-align: right;\">\n",
       "      <th></th>\n",
       "      <th>index_col</th>\n",
       "      <th>content</th>\n",
       "      <th>date</th>\n",
       "      <th>like</th>\n",
       "      <th>place</th>\n",
       "      <th>tags</th>\n",
       "      <th>month</th>\n",
       "    </tr>\n",
       "  </thead>\n",
       "  <tbody>\n",
       "    <tr>\n",
       "      <th>0</th>\n",
       "      <td>761</td>\n",
       "      <td>#캘리그라피연습#캘리초보자#캘리입문#나는가장이니까#다이소종이액자#방콕취미생활#코로나후유증</td>\n",
       "      <td>2020-02-11</td>\n",
       "      <td>17</td>\n",
       "      <td>NaN</td>\n",
       "      <td>['#캘리그라피연습', '#캘리초보자', '#캘리입문', '#나는가장이니까', '#다이소종이액자', '#방콕취미생활', '#코로나후유증']</td>\n",
       "      <td>2</td>\n",
       "    </tr>\n",
       "    <tr>\n",
       "      <th>1</th>\n",
       "      <td>760</td>\n",
       "      <td>#아기동영상 옷만 입어도 좋다는데..우리만 집에 있나봐 시은아..😭영상찍다 보니 시으니보다 내가 더 이상해진것 같기도 하고 ㅋㅋㅋㅋㅋㅋ#코로나후유증 😭😭오늘 시니 본 이모탐툔들 그냥 한번 웃고 가세요^^;-사진 끝까지 봐야 엄마 최애가 나와요💙#주먹꽉 #불주먹 하루빨리 깨끗한 공기 마시며뛰어놀수 있는 날이 되길🌸내강아지랑 손잡고 꽃구경도 다니고 예쁜추억 만들수있게 해주세요🙏🏻</td>\n",
       "      <td>2020-02-12</td>\n",
       "      <td>69</td>\n",
       "      <td>NaN</td>\n",
       "      <td>['#아기동영상', '#코로나후유증', '#주먹꽉', '#불주먹']</td>\n",
       "      <td>2</td>\n",
       "    </tr>\n",
       "    <tr>\n",
       "      <th>2</th>\n",
       "      <td>759</td>\n",
       "      <td>꼬마요정의 창밖의공기갈망코로나의 후유증#코로나후유증#꼬마요정#그리운밖에세상#</td>\n",
       "      <td>2020-02-14</td>\n",
       "      <td>4</td>\n",
       "      <td>NaN</td>\n",
       "      <td>['#코로나후유증', '#꼬마요정', '#그리운밖에세상']</td>\n",
       "      <td>2</td>\n",
       "    </tr>\n",
       "    <tr>\n",
       "      <th>3</th>\n",
       "      <td>758</td>\n",
       "      <td>오랜만의 여유#코로나후유증#외출이필요해</td>\n",
       "      <td>2020-02-18</td>\n",
       "      <td>40</td>\n",
       "      <td>스타벅스 안양역r점</td>\n",
       "      <td>['#코로나후유증', '#외출이필요해']</td>\n",
       "      <td>2</td>\n",
       "    </tr>\n",
       "    <tr>\n",
       "      <th>4</th>\n",
       "      <td>755</td>\n",
       "      <td>#코로나후유증 #낮술 #수라매생이칼국수 위로주 한자누건네며...😭#예쁜그릇창고 #대구그릇 #그릇</td>\n",
       "      <td>2020-02-21</td>\n",
       "      <td>43</td>\n",
       "      <td>NaN</td>\n",
       "      <td>['#코로나후유증', '#낮술', '#수라매생이칼국수', '#예쁜그릇창고', '#대구그릇', '#그릇']</td>\n",
       "      <td>2</td>\n",
       "    </tr>\n",
       "  </tbody>\n",
       "</table>\n",
       "</div>"
      ],
      "text/plain": [
       "   index_col  \\\n",
       "0        761   \n",
       "1        760   \n",
       "2        759   \n",
       "3        758   \n",
       "4        755   \n",
       "\n",
       "                                                                                                                                                                                                               content  \\\n",
       "0                                                                                                                                                                    #캘리그라피연습#캘리초보자#캘리입문#나는가장이니까#다이소종이액자#방콕취미생활#코로나후유증   \n",
       "1  #아기동영상 옷만 입어도 좋다는데..우리만 집에 있나봐 시은아..😭영상찍다 보니 시으니보다 내가 더 이상해진것 같기도 하고 ㅋㅋㅋㅋㅋㅋ#코로나후유증 😭😭오늘 시니 본 이모탐툔들 그냥 한번 웃고 가세요^^;-사진 끝까지 봐야 엄마 최애가 나와요💙#주먹꽉 #불주먹 하루빨리 깨끗한 공기 마시며뛰어놀수 있는 날이 되길🌸내강아지랑 손잡고 꽃구경도 다니고 예쁜추억 만들수있게 해주세요🙏🏻   \n",
       "2                                                                                                                                                                           꼬마요정의 창밖의공기갈망코로나의 후유증#코로나후유증#꼬마요정#그리운밖에세상#   \n",
       "3                                                                                                                                                                                                오랜만의 여유#코로나후유증#외출이필요해   \n",
       "4                                                                                                                                                                #코로나후유증 #낮술 #수라매생이칼국수 위로주 한자누건네며...😭#예쁜그릇창고 #대구그릇 #그릇   \n",
       "\n",
       "        date like       place  \\\n",
       "0 2020-02-11   17         NaN   \n",
       "1 2020-02-12   69         NaN   \n",
       "2 2020-02-14    4         NaN   \n",
       "3 2020-02-18   40  스타벅스 안양역r점   \n",
       "4 2020-02-21   43         NaN   \n",
       "\n",
       "                                                                            tags  \\\n",
       "0  ['#캘리그라피연습', '#캘리초보자', '#캘리입문', '#나는가장이니까', '#다이소종이액자', '#방콕취미생활', '#코로나후유증']   \n",
       "1                                          ['#아기동영상', '#코로나후유증', '#주먹꽉', '#불주먹']   \n",
       "2                                               ['#코로나후유증', '#꼬마요정', '#그리운밖에세상']   \n",
       "3                                                         ['#코로나후유증', '#외출이필요해']   \n",
       "4                     ['#코로나후유증', '#낮술', '#수라매생이칼국수', '#예쁜그릇창고', '#대구그릇', '#그릇']   \n",
       "\n",
       "   month  \n",
       "0      2  \n",
       "1      2  \n",
       "2      2  \n",
       "3      2  \n",
       "4      2  "
      ]
     },
     "execution_count": 296,
     "metadata": {},
     "output_type": "execute_result"
    }
   ],
   "source": [
    "insta = pd.read_csv('./files/3_1_crawling_raw.csv',encoding = 'utf-8')\n",
    "insta['month'] = 0\n",
    "insta['date'] = insta['date'].apply(lambda x: datetime.strptime(x, '%Y-%m-%d'))\n",
    "insta['month'] = insta['date'].apply(lambda x: x.month)\n",
    "\n",
    "insta.head()\n"
   ]
  },
  {
   "cell_type": "code",
   "execution_count": 297,
   "metadata": {},
   "outputs": [
    {
     "data": {
      "text/plain": [
       "<matplotlib.axes._subplots.AxesSubplot at 0x1d58230c780>"
      ]
     },
     "execution_count": 297,
     "metadata": {},
     "output_type": "execute_result"
    },
    {
     "data": {
      "image/png": "[encoded data removed]",
      "text/plain": [
       "<Figure size 432x288 with 1 Axes>"
      ]
     },
     "metadata": {
      "needs_background": "light"
     },
     "output_type": "display_data"
    }
   ],
   "source": [
    "sns.countplot(x='month', data=insta)"
   ]
  },
  {
   "cell_type": "markdown",
   "metadata": {},
   "source": [
    "# 기타 SNS\n",
    "- 트위터\n",
    "- 페이스북\t\t\n",
    "- 카카오페이지\t\n",
    "- 브런치\n"
   ]
  },
  {
   "cell_type": "code",
   "execution_count": 298,
   "metadata": {},
   "outputs": [],
   "source": [
    "sns_custom_dates = sorted(list(set(sns_custom['date'])))"
   ]
  },
  {
   "cell_type": "markdown",
   "metadata": {},
   "source": [
    "### 전처리"
   ]
  },
  {
   "cell_type": "code",
   "execution_count": 299,
   "metadata": {},
   "outputs": [],
   "source": [
    "sns_custom = pd.read_csv('./files/sns_custom.csv',encoding = 'utf-8', index_col=\"index\")\n",
    "sns_list = []\n",
    "for sns_custom_date in sns_custom_dates:\n",
    "    temp = {}\n",
    "    temp['date'] = sns_custom_date\n",
    "    temp['writing'] = 0\n",
    "    for j,sns_c in enumerate(sns_custom['date']):\n",
    "        if(temp['date'] == sns_c):\n",
    "            temp_writing = temp['writing']\n",
    "            temp['writing'] = temp_writing + sns_custom.iloc[j,1]\n",
    "    sns_list.append(temp)\n",
    "sns_list = pd.DataFrame(sns_list)\n",
    "sns_list['date'] = sns_list['date'].apply(lambda x: datetime.strptime(x, '%Y-%m-%d'))\n",
    "sns_list['month'] = sns_list['date'].apply(lambda x: x.month)"
   ]
  },
  {
   "cell_type": "markdown",
   "metadata": {},
   "source": [
    "### 월별"
   ]
  },
  {
   "cell_type": "code",
   "execution_count": 300,
   "metadata": {},
   "outputs": [
    {
     "data": {
      "text/plain": [
       "<matplotlib.axes._subplots.AxesSubplot at 0x1d586e87828>"
      ]
     },
     "execution_count": 300,
     "metadata": {},
     "output_type": "execute_result"
    },
    {
     "data": {
      "image/png": "[encoded data removed]",
      "text/plain": [
       "<Figure size 432x288 with 1 Axes>"
      ]
     },
     "metadata": {
      "needs_background": "light"
     },
     "output_type": "display_data"
    }
   ],
   "source": [
    "sns_month = []\n",
    "for month in range(1,10):\n",
    "    temp = {}\n",
    "    temp['month'] = month\n",
    "    temp['writing'] = 0\n",
    "    for j,sns_c in enumerate(sns_list['month']):\n",
    "        if(temp['month'] == sns_c):\n",
    "            temp_writing = temp['writing']\n",
    "            temp['writing'] = temp_writing + sns_list.iloc[j,1]\n",
    "    sns_month.append(temp)\n",
    "sns_month = pd.DataFrame(sns_month)\n",
    "sns.barplot(x='month',y='writing', data=sns_month)"
   ]
  },
  {
   "cell_type": "markdown",
   "metadata": {},
   "source": [
    "# 연령별 월별 확진자 수"
   ]
  },
  {
   "cell_type": "code",
   "execution_count": 301,
   "metadata": {},
   "outputs": [],
   "source": [
    "covid_df['확진일자'] = covid_df['확진일자'].apply(lambda x: datetime.strptime(x.replace(\".\",\"\").replace(\" \",\"-\"), '%Y-%m-%d'))"
   ]
  },
  {
   "cell_type": "code",
   "execution_count": 302,
   "metadata": {},
   "outputs": [],
   "source": [
    "covid_df['확진월'] = 0\n",
    "covid_df['확진월'] = covid_df['확진일자'].apply(lambda x: x.month)\n"
   ]
  },
  {
   "cell_type": "code",
   "execution_count": 303,
   "metadata": {},
   "outputs": [],
   "source": [
    "total_month = list(set(covid_df['확진월']))\n",
    "total_age = list(set(covid_df['연령대']))\n",
    "total_arr = []\n",
    "for month in total_month:\n",
    "    for age in total_age:\n",
    "        temp_dict = {}\n",
    "        affected=0\n",
    "        cond1 = covid_df['확진월'] == month\n",
    "        cond2 = covid_df['연령대'] == age\n",
    "        affected = len(covid_df[cond1 & cond2])\n",
    "        temp_dict['month']=month\n",
    "        temp_dict['age']=age\n",
    "        temp_dict['affected']=affected\n",
    "        total_arr.append(temp_dict)\n",
    "total_df = pd.DataFrame(total_arr)\n"
   ]
  },
  {
   "cell_type": "markdown",
   "metadata": {},
   "source": [
    "### plot"
   ]
  },
  {
   "cell_type": "code",
   "execution_count": 304,
   "metadata": {},
   "outputs": [
    {
     "data": {
      "text/plain": [
       "<matplotlib.legend.Legend at 0x1d584017d30>"
      ]
     },
     "execution_count": 304,
     "metadata": {},
     "output_type": "execute_result"
    },
    {
     "data": {
      "image/png": "[encoded data removed]",
      "text/plain": [
       "<Figure size 1440x720 with 1 Axes>"
      ]
     },
     "metadata": {
      "needs_background": "light"
     },
     "output_type": "display_data"
    }
   ],
   "source": [
    "plt.figure(figsize=(20,10))\n",
    "plt.plot( 'month','affected' ,data=total_df[total_df['age']==20], marker='o', markerfacecolor='red', markersize=12, color='red', linewidth=2)\n",
    "plt.plot( 'month','affected' ,data=total_df[total_df['age']==30], marker='o', markerfacecolor='black', markersize=12, color='black', linewidth=2)\n",
    "plt.plot( 'month','affected' ,data=total_df[total_df['age']==40], marker='o', markerfacecolor='orange', markersize=12, color='orange', linewidth=2)\n",
    "plt.plot( 'month','affected' ,data=total_df[total_df['age']==50], marker='o', markerfacecolor='blue', markersize=12, color='blue', linewidth=2)\n",
    "plt.plot( 'month','affected' ,data=total_df[total_df['age']==60], marker='o', markerfacecolor='green', markersize=12, color='green', linewidth=2)\n",
    "plt.legend(loc='upper left',labels=('20','30','40','50','60'), fontsize=18)"
   ]
  },
  {
   "cell_type": "markdown",
   "metadata": {},
   "source": [
    "### PIE - 8월"
   ]
  },
  {
   "cell_type": "code",
   "execution_count": 305,
   "metadata": {},
   "outputs": [
    {
     "data": {
      "image/png": "[encoded data removed]",
      "text/plain": [
       "<Figure size 1440x720 with 1 Axes>"
      ]
     },
     "metadata": {},
     "output_type": "display_data"
    }
   ],
   "source": [
    "total_df = total_df.sort_values(by=['age'])\n",
    "custom_total_age_list = ['0대','10대','20대','30대','40대','50대','60대','70대','80대','90대',]\n",
    "\n",
    "month = 8\n",
    "plt.figure(figsize=(20,10))\n",
    "plt.pie(total_df[total_df['month']==month]['affected'], textprops={'fontsize': 11}, \n",
    "        labels=custom_total_age_list, shadow=True, autopct='%0.1f%%',startangle=90)\n",
    "plt.legend(custom_total_age_list,fontsize=10,loc='upper right')\n",
    "plt.show()"
   ]
  },
  {
   "cell_type": "markdown",
   "metadata": {},
   "source": [
    "# 경기도 전체 연령별 인구 수 \n",
    "http://stat.daegu.go.kr/basicStats/moisPrsnInfo.do\n",
    "\n",
    "- 9월의 인구수 데이터 집계 전"
   ]
  },
  {
   "cell_type": "code",
   "execution_count": 306,
   "metadata": {},
   "outputs": [],
   "source": [
    "total_korea_people = {  '1':pd.read_csv('files/전체인원1월.csv',encoding = 'euc-kr'),\n",
    "                        '2':pd.read_csv('files/전체인원2월.csv',encoding = 'euc-kr'),\n",
    "                        '3':pd.read_csv('files/전체인원3월.csv',encoding = 'euc-kr'),\n",
    "                        '4':pd.read_csv('files/전체인원4월.csv',encoding = 'euc-kr'),\n",
    "                        '5':pd.read_csv('files/전체인원5월.csv',encoding = 'euc-kr'),\n",
    "                        '6':pd.read_csv('files/전체인원6월.csv',encoding = 'euc-kr'),\n",
    "                        '7':pd.read_csv('files/전체인원7월.csv',encoding = 'euc-kr'),\n",
    "                        '8':pd.read_csv('files/전체인원8월.csv',encoding = 'euc-kr'),\n",
    "                        '9':pd.read_csv('files/전체인원8월.csv',encoding = 'euc-kr')\n",
    "                     }"
   ]
  },
  {
   "cell_type": "code",
   "execution_count": 307,
   "metadata": {},
   "outputs": [],
   "source": [
    "for month,total_korea_month in total_korea_people.items():\n",
    "    total_korea_month['행정구역'] = ['전국','서울특별시','부산광역시','대구광역시','인천광역시','광주광역시',\n",
    "                                  '대전광역시','울산광역시','세종특별자치시','경기도','강원도'  ,'충청북도',\n",
    "                                  '충청남도' ,'전라북도' ,'전라남도' ,'경상북도' ,'경상남도' ,'제주특별자치도']\n",
    "    if (month=='9'):\n",
    "        month = 8\n",
    "    del total_korea_month[f'2020년0{month}월_계_총인구수']\n",
    "    del total_korea_month[f'2020년0{month}월_계_연령구간인구수']\n",
    "    del total_korea_month[f'2020년0{month}월_계_0~9세']\n",
    "    del total_korea_month[f'2020년0{month}월_계_10~19세']\n",
    "    del total_korea_month[f'2020년0{month}월_계_20~29세']\n",
    "    del total_korea_month[f'2020년0{month}월_계_30~39세']\n",
    "    del total_korea_month[f'2020년0{month}월_계_40~49세']\n",
    "    del total_korea_month[f'2020년0{month}월_계_50~59세']\n",
    "    del total_korea_month[f'2020년0{month}월_계_60~69세']\n",
    "    del total_korea_month[f'2020년0{month}월_계_70~79세']\n",
    "    del total_korea_month[f'2020년0{month}월_계_80~89세']\n",
    "    del total_korea_month[f'2020년0{month}월_계_90~99세']\n",
    "    del total_korea_month[f'2020년0{month}월_계_100세 이상']\n",
    "    del total_korea_month[f'2020년0{month}월_남_총인구수']\n",
    "    del total_korea_month[f'2020년0{month}월_남_연령구간인구수']\n",
    "    del total_korea_month[f'2020년0{month}월_여_연령구간인구수']\n",
    "    del total_korea_month[f'2020년0{month}월_여_총인구수']\n",
    "    total_korea_month.columns = ['행정구역','남_0대','남_10대','남_20대','남_30대','남_40대','남_50대','남_60대',\n",
    "                              '남_70대','남_80대','남_90대','남_100대','여_0대','여_10대','여_20대','여_30대',\n",
    "                              '여_40대','여_50대','여_60대','여_70대','여_80대','여_90대','여_100대'\n",
    "                             ]"
   ]
  },
  {
   "cell_type": "code",
   "execution_count": 308,
   "metadata": {},
   "outputs": [],
   "source": [
    "for month,total_korea_month in total_korea_people.items():\n",
    "    if (month=='9'):\n",
    "        month = 8\n",
    "    for col in list(total_korea_month.columns):\n",
    "        total_korea_month[col] = total_korea_month[col].str.replace(',','')\n",
    "        if(col != '행정구역'):\n",
    "            total_korea_month[col] = total_korea_month[col].apply(pd.to_numeric)"
   ]
  },
  {
   "cell_type": "code",
   "execution_count": 309,
   "metadata": {},
   "outputs": [],
   "source": [
    "for month,total_korea_month in total_korea_people.items():\n",
    "    if (month=='9'):\n",
    "        month = 8\n",
    "    for col in list(total_korea_month.columns):\n",
    "        total_korea_month['남_80대이상'] = total_korea_month['남_80대'] + total_korea_month['남_90대'] + total_korea_month['남_100대']\n",
    "        total_korea_month['여_80대이상'] = total_korea_month['여_80대'] + total_korea_month['여_90대'] + total_korea_month['여_100대']\n",
    "    del total_korea_month['남_90대']\n",
    "    del total_korea_month['남_100대']\n",
    "    del total_korea_month['여_90대']\n",
    "    del total_korea_month['여_100대']"
   ]
  },
  {
   "cell_type": "markdown",
   "metadata": {},
   "source": [
    "### 월별 인원수 체크"
   ]
  },
  {
   "cell_type": "code",
   "execution_count": 310,
   "metadata": {
    "scrolled": true
   },
   "outputs": [
    {
     "data": {
      "text/html": [
       "<div>\n",
       "<style scoped>\n",
       "    .dataframe tbody tr th:only-of-type {\n",
       "        vertical-align: middle;\n",
       "    }\n",
       "\n",
       "    .dataframe tbody tr th {\n",
       "        vertical-align: top;\n",
       "    }\n",
       "\n",
       "    .dataframe thead th {\n",
       "        text-align: right;\n",
       "    }\n",
       "</style>\n",
       "<table border=\"1\" class=\"dataframe\">\n",
       "  <thead>\n",
       "    <tr style=\"text-align: right;\">\n",
       "      <th></th>\n",
       "      <th>행정구역</th>\n",
       "      <th>남_0대</th>\n",
       "      <th>남_10대</th>\n",
       "      <th>남_20대</th>\n",
       "      <th>남_30대</th>\n",
       "      <th>남_40대</th>\n",
       "      <th>남_50대</th>\n",
       "      <th>남_60대</th>\n",
       "      <th>남_70대</th>\n",
       "      <th>남_80대</th>\n",
       "      <th>여_0대</th>\n",
       "      <th>여_10대</th>\n",
       "      <th>여_20대</th>\n",
       "      <th>여_30대</th>\n",
       "      <th>여_40대</th>\n",
       "      <th>여_50대</th>\n",
       "      <th>여_60대</th>\n",
       "      <th>여_70대</th>\n",
       "      <th>여_80대</th>\n",
       "      <th>남_80대이상</th>\n",
       "      <th>여_80대이상</th>\n",
       "    </tr>\n",
       "  </thead>\n",
       "  <tbody>\n",
       "    <tr>\n",
       "      <th>9</th>\n",
       "      <td>경기도</td>\n",
       "      <td>604946</td>\n",
       "      <td>696108</td>\n",
       "      <td>931584</td>\n",
       "      <td>986198</td>\n",
       "      <td>1165205</td>\n",
       "      <td>1116749</td>\n",
       "      <td>700122</td>\n",
       "      <td>334417</td>\n",
       "      <td>117354</td>\n",
       "      <td>575537</td>\n",
       "      <td>655664</td>\n",
       "      <td>840261</td>\n",
       "      <td>933887</td>\n",
       "      <td>1128903</td>\n",
       "      <td>1084911</td>\n",
       "      <td>710062</td>\n",
       "      <td>405992</td>\n",
       "      <td>210268</td>\n",
       "      <td>129981</td>\n",
       "      <td>249841</td>\n",
       "    </tr>\n",
       "  </tbody>\n",
       "</table>\n",
       "</div>"
      ],
      "text/plain": [
       "  행정구역    남_0대   남_10대   남_20대   남_30대    남_40대    남_50대   남_60대   남_70대  \\\n",
       "9  경기도  604946  696108  931584  986198  1165205  1116749  700122  334417   \n",
       "\n",
       "    남_80대    여_0대   여_10대   여_20대   여_30대    여_40대    여_50대   여_60대   여_70대  \\\n",
       "9  117354  575537  655664  840261  933887  1128903  1084911  710062  405992   \n",
       "\n",
       "    여_80대  남_80대이상  여_80대이상  \n",
       "9  210268   129981   249841  "
      ]
     },
     "execution_count": 310,
     "metadata": {},
     "output_type": "execute_result"
    }
   ],
   "source": [
    "month = '1'\n",
    "total_korea_people[month][total_korea_people[month]['행정구역']=='경기도']"
   ]
  },
  {
   "cell_type": "markdown",
   "metadata": {},
   "source": [
    "# 연령대별 감염자 비율"
   ]
  },
  {
   "cell_type": "code",
   "execution_count": 313,
   "metadata": {},
   "outputs": [],
   "source": [
    "gyeonggido_total_people = total_korea_people[\"9\"][total_korea_people[\"9\"]['행정구역']=='경기도']"
   ]
  },
  {
   "cell_type": "code",
   "execution_count": 314,
   "metadata": {},
   "outputs": [
    {
     "data": {
      "text/plain": [
       "Index(['행정구역', '남_0대', '남_10대', '남_20대', '남_30대', '남_40대', '남_50대', '남_60대',\n",
       "       '남_70대', '남_80대', '여_0대', '여_10대', '여_20대', '여_30대', '여_40대', '여_50대',\n",
       "       '여_60대', '여_70대', '여_80대', '남_80대이상', '여_80대이상'],\n",
       "      dtype='object')"
      ]
     },
     "execution_count": 314,
     "metadata": {},
     "output_type": "execute_result"
    }
   ],
   "source": [
    "gyeonggido_total_people.columns"
   ]
  },
  {
   "cell_type": "code",
   "execution_count": 315,
   "metadata": {},
   "outputs": [],
   "source": [
    "gyeonggido_0_age = gyeonggido_total_people['남_0대'] + gyeonggido_total_people['여_0대']\n",
    "gyeonggido_10_age = gyeonggido_total_people['남_10대'] + gyeonggido_total_people['여_10대']\n",
    "gyeonggido_20_age = gyeonggido_total_people['남_20대'] + gyeonggido_total_people['여_20대']\n",
    "gyeonggido_30_age = gyeonggido_total_people['남_30대'] + gyeonggido_total_people['여_30대']\n",
    "gyeonggido_40_age = gyeonggido_total_people['남_40대'] + gyeonggido_total_people['여_40대']\n",
    "gyeonggido_50_age = gyeonggido_total_people['남_50대'] + gyeonggido_total_people['여_50대']\n",
    "gyeonggido_60_age = gyeonggido_total_people['남_60대'] + gyeonggido_total_people['여_60대']\n",
    "gyeonggido_70_age = gyeonggido_total_people['남_70대'] + gyeonggido_total_people['여_70대']\n",
    "gyeonggido_80_age = gyeonggido_total_people['남_80대'] + gyeonggido_total_people['여_80대']\n",
    "gyeonggido_90_age = gyeonggido_total_people['남_80대이상'] + gyeonggido_total_people['여_80대이상']\n",
    "\n",
    "gyeonggido_people = pd.DataFrame([{\"age\":0,\"total_people\":gyeonggido_0_age[9],'infected':(covid_df['연령대']==0).sum()},\n",
    "                                  {\"age\":10,\"total_people\":gyeonggido_10_age[9],'infected':(covid_df['연령대']==10).sum()},\n",
    "                                  {\"age\":20,\"total_people\":gyeonggido_20_age[9],'infected':(covid_df['연령대']==20).sum()},\n",
    "                                  {\"age\":30,\"total_people\":gyeonggido_30_age[9],'infected':(covid_df['연령대']==30).sum()},\n",
    "                                  {\"age\":40,\"total_people\":gyeonggido_40_age[9],'infected':(covid_df['연령대']==40).sum()},\n",
    "                                  {\"age\":50,\"total_people\":gyeonggido_50_age[9],'infected':(covid_df['연령대']==50).sum()},\n",
    "                                  {\"age\":60,\"total_people\":gyeonggido_60_age[9],'infected':(covid_df['연령대']==60).sum()},\n",
    "                                  {\"age\":70,\"total_people\":gyeonggido_70_age[9],'infected':(covid_df['연령대']==70).sum()},\n",
    "                                  {\"age\":80,\"total_people\":gyeonggido_80_age[9],'infected':(covid_df['연령대']==80).sum()},\n",
    "                                  {\"age\":90,\"total_people\":gyeonggido_90_age[9],'infected':(covid_df['연령대']==90).sum()},\n",
    "                                 ]) "
   ]
  },
  {
   "cell_type": "code",
   "execution_count": 316,
   "metadata": {},
   "outputs": [
    {
     "data": {
      "text/html": [
       "<div>\n",
       "<style scoped>\n",
       "    .dataframe tbody tr th:only-of-type {\n",
       "        vertical-align: middle;\n",
       "    }\n",
       "\n",
       "    .dataframe tbody tr th {\n",
       "        vertical-align: top;\n",
       "    }\n",
       "\n",
       "    .dataframe thead th {\n",
       "        text-align: right;\n",
       "    }\n",
       "</style>\n",
       "<table border=\"1\" class=\"dataframe\">\n",
       "  <thead>\n",
       "    <tr style=\"text-align: right;\">\n",
       "      <th></th>\n",
       "      <th>age</th>\n",
       "      <th>total_people</th>\n",
       "      <th>infected</th>\n",
       "      <th>infected_rate</th>\n",
       "    </tr>\n",
       "  </thead>\n",
       "  <tbody>\n",
       "    <tr>\n",
       "      <th>0</th>\n",
       "      <td>0</td>\n",
       "      <td>1161588</td>\n",
       "      <td>170</td>\n",
       "      <td>0.014635</td>\n",
       "    </tr>\n",
       "    <tr>\n",
       "      <th>1</th>\n",
       "      <td>10</td>\n",
       "      <td>1338833</td>\n",
       "      <td>223</td>\n",
       "      <td>0.016656</td>\n",
       "    </tr>\n",
       "    <tr>\n",
       "      <th>2</th>\n",
       "      <td>20</td>\n",
       "      <td>1795440</td>\n",
       "      <td>656</td>\n",
       "      <td>0.036537</td>\n",
       "    </tr>\n",
       "    <tr>\n",
       "      <th>3</th>\n",
       "      <td>30</td>\n",
       "      <td>1912042</td>\n",
       "      <td>560</td>\n",
       "      <td>0.029288</td>\n",
       "    </tr>\n",
       "    <tr>\n",
       "      <th>4</th>\n",
       "      <td>40</td>\n",
       "      <td>2297528</td>\n",
       "      <td>551</td>\n",
       "      <td>0.023982</td>\n",
       "    </tr>\n",
       "    <tr>\n",
       "      <th>5</th>\n",
       "      <td>50</td>\n",
       "      <td>2223814</td>\n",
       "      <td>815</td>\n",
       "      <td>0.036649</td>\n",
       "    </tr>\n",
       "    <tr>\n",
       "      <th>6</th>\n",
       "      <td>60</td>\n",
       "      <td>1486778</td>\n",
       "      <td>737</td>\n",
       "      <td>0.049570</td>\n",
       "    </tr>\n",
       "    <tr>\n",
       "      <th>7</th>\n",
       "      <td>70</td>\n",
       "      <td>759138</td>\n",
       "      <td>368</td>\n",
       "      <td>0.048476</td>\n",
       "    </tr>\n",
       "    <tr>\n",
       "      <th>8</th>\n",
       "      <td>80</td>\n",
       "      <td>340520</td>\n",
       "      <td>163</td>\n",
       "      <td>0.047868</td>\n",
       "    </tr>\n",
       "    <tr>\n",
       "      <th>9</th>\n",
       "      <td>90</td>\n",
       "      <td>395553</td>\n",
       "      <td>28</td>\n",
       "      <td>0.007079</td>\n",
       "    </tr>\n",
       "  </tbody>\n",
       "</table>\n",
       "</div>"
      ],
      "text/plain": [
       "   age  total_people  infected  infected_rate\n",
       "0    0       1161588       170       0.014635\n",
       "1   10       1338833       223       0.016656\n",
       "2   20       1795440       656       0.036537\n",
       "3   30       1912042       560       0.029288\n",
       "4   40       2297528       551       0.023982\n",
       "5   50       2223814       815       0.036649\n",
       "6   60       1486778       737       0.049570\n",
       "7   70        759138       368       0.048476\n",
       "8   80        340520       163       0.047868\n",
       "9   90        395553        28       0.007079"
      ]
     },
     "execution_count": 316,
     "metadata": {},
     "output_type": "execute_result"
    }
   ],
   "source": [
    "gyeonggido_people['infected_rate'] = gyeonggido_people['infected'] / gyeonggido_people['total_people'] *100\n",
    "gyeonggido_people"
   ]
  },
  {
   "cell_type": "markdown",
   "metadata": {},
   "source": [
    "# 기준일 관계없이 경기도 전체 인구 기준"
   ]
  },
  {
   "cell_type": "markdown",
   "metadata": {},
   "source": [
    "### 연령별 인구수"
   ]
  },
  {
   "cell_type": "code",
   "execution_count": 317,
   "metadata": {},
   "outputs": [
    {
     "data": {
      "text/plain": [
       "<matplotlib.axes._subplots.AxesSubplot at 0x1d5fe66d978>"
      ]
     },
     "execution_count": 317,
     "metadata": {},
     "output_type": "execute_result"
    },
    {
     "data": {
      "image/png": "[encoded data removed]",
      "text/plain": [
       "<Figure size 1440x720 with 1 Axes>"
      ]
     },
     "metadata": {
      "needs_background": "light"
     },
     "output_type": "display_data"
    }
   ],
   "source": [
    "plt.figure(figsize=(20,10))\n",
    "sns.barplot(x=\"age\", y=\"total_people\", data=gyeonggido_people)"
   ]
  },
  {
   "cell_type": "markdown",
   "metadata": {},
   "source": [
    "### 연령별 감염자 수"
   ]
  },
  {
   "cell_type": "code",
   "execution_count": 318,
   "metadata": {},
   "outputs": [
    {
     "data": {
      "text/plain": [
       "<matplotlib.axes._subplots.AxesSubplot at 0x1d581fbb438>"
      ]
     },
     "execution_count": 318,
     "metadata": {},
     "output_type": "execute_result"
    },
    {
     "data": {
      "image/png": "[encoded data removed]",
      "text/plain": [
       "<Figure size 1440x720 with 1 Axes>"
      ]
     },
     "metadata": {
      "needs_background": "light"
     },
     "output_type": "display_data"
    }
   ],
   "source": [
    "plt.figure(figsize=(20,10))\n",
    "sns.barplot(x=\"age\", y=\"infected\", data=gyeonggido_people)"
   ]
  },
  {
   "cell_type": "markdown",
   "metadata": {},
   "source": [
    "### 연령별 감염률"
   ]
  },
  {
   "cell_type": "code",
   "execution_count": 319,
   "metadata": {},
   "outputs": [
    {
     "data": {
      "text/plain": [
       "<matplotlib.axes._subplots.AxesSubplot at 0x1d582120ac8>"
      ]
     },
     "execution_count": 319,
     "metadata": {},
     "output_type": "execute_result"
    },
    {
     "data": {
      "image/png": "[encoded data removed]",
      "text/plain": [
       "<Figure size 1440x720 with 1 Axes>"
      ]
     },
     "metadata": {
      "needs_background": "light"
     },
     "output_type": "display_data"
    }
   ],
   "source": [
    "plt.figure(figsize=(20,10))\n",
    "sns.barplot(x=\"age\", y=\"infected_rate\", data=gyeonggido_people)"
   ]
  }
 ],
 "metadata": {
  "kernelspec": {
   "display_name": "covid",
   "language": "python",
   "name": "covid"
  },
  "language_info": {
   "codemirror_mode": {
    "name": "ipython",
    "version": 3
   },
   "file_extension": ".py",
   "mimetype": "text/x-python",
   "name": "python",
   "nbconvert_exporter": "python",
   "pygments_lexer": "ipython3",
   "version": "3.6.10"
  }
 },
 "nbformat": 4,
 "nbformat_minor": 4
}
